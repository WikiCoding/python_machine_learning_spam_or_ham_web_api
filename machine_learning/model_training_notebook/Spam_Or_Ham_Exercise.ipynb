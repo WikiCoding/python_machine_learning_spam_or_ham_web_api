{
 "cells": [
  {
   "cell_type": "code",
   "execution_count": 1,
   "id": "d26d4d4e-0910-4e05-a02b-5ce9374cb902",
   "metadata": {
    "tags": []
   },
   "outputs": [
    {
     "data": {
      "text/html": [
       "<div>\n",
       "<style scoped>\n",
       "    .dataframe tbody tr th:only-of-type {\n",
       "        vertical-align: middle;\n",
       "    }\n",
       "\n",
       "    .dataframe tbody tr th {\n",
       "        vertical-align: top;\n",
       "    }\n",
       "\n",
       "    .dataframe thead th {\n",
       "        text-align: right;\n",
       "    }\n",
       "</style>\n",
       "<table border=\"1\" class=\"dataframe\">\n",
       "  <thead>\n",
       "    <tr style=\"text-align: right;\">\n",
       "      <th></th>\n",
       "      <th>Label</th>\n",
       "      <th>Message</th>\n",
       "    </tr>\n",
       "  </thead>\n",
       "  <tbody>\n",
       "    <tr>\n",
       "      <th>0</th>\n",
       "      <td>1</td>\n",
       "      <td>Go until jurong point, crazy.. Available only ...</td>\n",
       "    </tr>\n",
       "    <tr>\n",
       "      <th>1</th>\n",
       "      <td>1</td>\n",
       "      <td>Ok lar... Joking wif u oni...</td>\n",
       "    </tr>\n",
       "    <tr>\n",
       "      <th>2</th>\n",
       "      <td>0</td>\n",
       "      <td>Free entry in 2 a wkly comp to win FA Cup fina...</td>\n",
       "    </tr>\n",
       "    <tr>\n",
       "      <th>3</th>\n",
       "      <td>1</td>\n",
       "      <td>U dun say so early hor... U c already then say...</td>\n",
       "    </tr>\n",
       "    <tr>\n",
       "      <th>4</th>\n",
       "      <td>1</td>\n",
       "      <td>Nah I don't think he goes to usf, he lives aro...</td>\n",
       "    </tr>\n",
       "  </tbody>\n",
       "</table>\n",
       "</div>"
      ],
      "text/plain": [
       "   Label                                            Message\n",
       "0      1  Go until jurong point, crazy.. Available only ...\n",
       "1      1                      Ok lar... Joking wif u oni...\n",
       "2      0  Free entry in 2 a wkly comp to win FA Cup fina...\n",
       "3      1  U dun say so early hor... U c already then say...\n",
       "4      1  Nah I don't think he goes to usf, he lives aro..."
      ]
     },
     "execution_count": 1,
     "metadata": {},
     "output_type": "execute_result"
    }
   ],
   "source": [
    "import pandas as pd\n",
    "import numpy as np\n",
    "import pickle\n",
    "import scipy.sparse\n",
    "from sklearn.model_selection import train_test_split\n",
    "from sklearn.ensemble import RandomForestClassifier\n",
    "from sklearn.linear_model import LogisticRegression\n",
    "from sklearn.preprocessing import OneHotEncoder\n",
    "from sklearn.feature_extraction.text import TfidfVectorizer\n",
    "from sklearn.compose import ColumnTransformer\n",
    "\n",
    "spam_or_ham = pd.read_csv(\"../ml_training_set/spam_or_ham_cleaned.csv\")\n",
    "spam_or_ham.head()"
   ]
  },
  {
   "cell_type": "code",
   "execution_count": 2,
   "id": "92f79d4a-845d-4aeb-98d9-dc1815a05b09",
   "metadata": {},
   "outputs": [
    {
     "data": {
      "text/html": [
       "<div>\n",
       "<style scoped>\n",
       "    .dataframe tbody tr th:only-of-type {\n",
       "        vertical-align: middle;\n",
       "    }\n",
       "\n",
       "    .dataframe tbody tr th {\n",
       "        vertical-align: top;\n",
       "    }\n",
       "\n",
       "    .dataframe thead th {\n",
       "        text-align: right;\n",
       "    }\n",
       "</style>\n",
       "<table border=\"1\" class=\"dataframe\">\n",
       "  <thead>\n",
       "    <tr style=\"text-align: right;\">\n",
       "      <th></th>\n",
       "      <th>Label</th>\n",
       "    </tr>\n",
       "  </thead>\n",
       "  <tbody>\n",
       "    <tr>\n",
       "      <th>count</th>\n",
       "      <td>5572.000000</td>\n",
       "    </tr>\n",
       "    <tr>\n",
       "      <th>mean</th>\n",
       "      <td>0.865937</td>\n",
       "    </tr>\n",
       "    <tr>\n",
       "      <th>std</th>\n",
       "      <td>0.340751</td>\n",
       "    </tr>\n",
       "    <tr>\n",
       "      <th>min</th>\n",
       "      <td>0.000000</td>\n",
       "    </tr>\n",
       "    <tr>\n",
       "      <th>25%</th>\n",
       "      <td>1.000000</td>\n",
       "    </tr>\n",
       "    <tr>\n",
       "      <th>50%</th>\n",
       "      <td>1.000000</td>\n",
       "    </tr>\n",
       "    <tr>\n",
       "      <th>75%</th>\n",
       "      <td>1.000000</td>\n",
       "    </tr>\n",
       "    <tr>\n",
       "      <th>max</th>\n",
       "      <td>1.000000</td>\n",
       "    </tr>\n",
       "  </tbody>\n",
       "</table>\n",
       "</div>"
      ],
      "text/plain": [
       "             Label\n",
       "count  5572.000000\n",
       "mean      0.865937\n",
       "std       0.340751\n",
       "min       0.000000\n",
       "25%       1.000000\n",
       "50%       1.000000\n",
       "75%       1.000000\n",
       "max       1.000000"
      ]
     },
     "execution_count": 2,
     "metadata": {},
     "output_type": "execute_result"
    }
   ],
   "source": [
    "spam_or_ham.describe()\n",
    "# 0 = spam\n",
    "# 1 = ham"
   ]
  },
  {
   "cell_type": "code",
   "execution_count": 3,
   "id": "42a023d1-e43c-472f-ad12-15378a8c8cc7",
   "metadata": {
    "tags": []
   },
   "outputs": [
    {
     "data": {
      "text/plain": [
       "(4825, 747, 0.8659368269921034)"
      ]
     },
     "execution_count": 3,
     "metadata": {},
     "output_type": "execute_result"
    }
   ],
   "source": [
    "(spam_or_ham[\"Label\"] == 1).sum(), (spam_or_ham[\"Label\"] == 0).sum(), (spam_or_ham[\"Label\"] == 1).sum() / len(spam_or_ham)\n",
    "# So it means that most of the data is \"ham\""
   ]
  },
  {
   "cell_type": "code",
   "execution_count": 4,
   "id": "675bc97d-ebe6-42b1-8758-b2e6f0dcb96c",
   "metadata": {
    "tags": []
   },
   "outputs": [
    {
     "data": {
      "text/plain": [
       "Label      5572\n",
       "Message    5572\n",
       "dtype: int64"
      ]
     },
     "execution_count": 4,
     "metadata": {},
     "output_type": "execute_result"
    }
   ],
   "source": [
    "spam_or_ham.isna().count()"
   ]
  },
  {
   "cell_type": "code",
   "execution_count": 5,
   "id": "422043f8-cb20-47d3-9991-39db75452a7e",
   "metadata": {
    "tags": []
   },
   "outputs": [
    {
     "data": {
      "text/plain": [
       "Label       int64\n",
       "Message    object\n",
       "dtype: object"
      ]
     },
     "execution_count": 5,
     "metadata": {},
     "output_type": "execute_result"
    }
   ],
   "source": [
    "spam_or_ham.dtypes"
   ]
  },
  {
   "cell_type": "code",
   "execution_count": 6,
   "id": "078cd2b1-58ee-45f9-9ea2-907d249db9ea",
   "metadata": {
    "tags": []
   },
   "outputs": [
    {
     "data": {
      "text/plain": [
       "<Compressed Sparse Row sparse matrix of dtype 'float64'\n",
       "\twith 73911 stored elements and shape (5572, 8670)>"
      ]
     },
     "execution_count": 6,
     "metadata": {},
     "output_type": "execute_result"
    }
   ],
   "source": [
    "X = spam_or_ham[\"Message\"]\n",
    "y = spam_or_ham[\"Label\"]\n",
    "\n",
    "vectorizer = TfidfVectorizer()\n",
    "\n",
    "transformed_X = vectorizer.fit_transform(X)\n",
    "transformed_X"
   ]
  },
  {
   "cell_type": "code",
   "execution_count": 7,
   "id": "0d243a7e-4c0d-4c4c-a999-d4eef5b141ca",
   "metadata": {
    "tags": []
   },
   "outputs": [
    {
     "data": {
      "text/plain": [
       "0.979372197309417"
      ]
     },
     "execution_count": 7,
     "metadata": {},
     "output_type": "execute_result"
    }
   ],
   "source": [
    "X_train, X_test, y_train, y_test = train_test_split(transformed_X, y, test_size=0.2, random_state=42)\n",
    "model = RandomForestClassifier()\n",
    "model.fit(X_train, y_train)\n",
    "model.score(X_test, y_test)"
   ]
  },
  {
   "cell_type": "code",
   "execution_count": 8,
   "id": "bcc3e06a-6c23-4913-9bf5-e2ed44923543",
   "metadata": {
    "tags": []
   },
   "outputs": [
    {
     "data": {
      "text/plain": [
       "0.9632286995515695"
      ]
     },
     "execution_count": 8,
     "metadata": {},
     "output_type": "execute_result"
    }
   ],
   "source": [
    "model2 = LogisticRegression()\n",
    "model2.fit(X_train, y_train)\n",
    "model2.score(X_test, y_test)"
   ]
  },
  {
   "cell_type": "code",
   "execution_count": 9,
   "id": "94911828-8c2f-4117-88d2-3c016fc1bcfe",
   "metadata": {
    "tags": []
   },
   "outputs": [
    {
     "data": {
      "text/plain": [
       "array([[0.63, 0.37]])"
      ]
     },
     "execution_count": 9,
     "metadata": {},
     "output_type": "execute_result"
    }
   ],
   "source": [
    "prompt = 'you just won a prize! click here to win more'\n",
    "transformed_prompt = vectorizer.transform([prompt])\n",
    "\n",
    "model.predict_proba(transformed_prompt)"
   ]
  },
  {
   "cell_type": "code",
   "execution_count": 77,
   "id": "59c74b57-4eb5-4d09-9b83-883a5651af1f",
   "metadata": {
    "tags": []
   },
   "outputs": [],
   "source": [
    "# now saving the model\n",
    "pickle.dump(model, open(\"../trained_ml_model/spam_or_ham_ml_model.pkl\", \"wb\"))\n",
    "\n",
    "# save the TfidfVectorizer:\n",
    "with open('../trained_ml_model/tfidf_vectorizer.pkl', 'wb') as f:\n",
    "    pickle.dump(vectorizer, f)\n",
    "\n",
    "# save the transformed sparse matrix:\n",
    "scipy.sparse.save_npz('../trained_ml_model/transformed_X.npz', transformed_X)"
   ]
  },
  {
   "cell_type": "code",
   "execution_count": 10,
   "id": "f7fc19fc-6070-46f1-b5ca-e95d75a24426",
   "metadata": {
    "tags": []
   },
   "outputs": [],
   "source": [
    "# now opening everything and using it\n",
    "# loading the TfidfVectorizer:\n",
    "with open('../trained_ml_model/tfidf_vectorizer.pkl', 'rb') as f:\n",
    "    loaded_vectorizer = pickle.load(f)\n",
    "\n",
    "# loading the transformed sparse matrix:\n",
    "loaded_transformed_X = scipy.sparse.load_npz('../trained_ml_model/transformed_X.npz')\n",
    "\n",
    "# Load the model\n",
    "with open('../trained_ml_model/spam_or_ham_ml_model.pkl', 'rb') as ml:\n",
    "    loaded_model = pickle.load(ml)"
   ]
  },
  {
   "cell_type": "code",
   "execution_count": 11,
   "id": "84f1e75f-f943-41a7-96b8-b433b1f6b8b3",
   "metadata": {
    "tags": []
   },
   "outputs": [
    {
     "data": {
      "text/plain": [
       "(array([[0.44, 0.56]]), array([[0.58, 0.42]]))"
      ]
     },
     "execution_count": 11,
     "metadata": {},
     "output_type": "execute_result"
    }
   ],
   "source": [
    "prompt = 'you just won a prize! click here to win more'\n",
    "prompt2 = 'your change to win a prize in cash 250€ every week. click on this link!'\n",
    "transformed_prompt_loaded = loaded_vectorizer.transform([prompt])\n",
    "transformed_prompt_loaded2 = loaded_vectorizer.transform([prompt2])\n",
    "\n",
    "loaded_model.predict_proba(transformed_prompt_loaded), loaded_model.predict_proba(transformed_prompt_loaded2)"
   ]
  },
  {
   "cell_type": "code",
   "execution_count": null,
   "id": "389cd4ed-f9b7-40f5-99e0-1286bf672703",
   "metadata": {},
   "outputs": [],
   "source": []
  }
 ],
 "metadata": {
  "kernelspec": {
   "display_name": "Python 3 (ipykernel)",
   "language": "python",
   "name": "python3"
  },
  "language_info": {
   "codemirror_mode": {
    "name": "ipython",
    "version": 3
   },
   "file_extension": ".py",
   "mimetype": "text/x-python",
   "name": "python",
   "nbconvert_exporter": "python",
   "pygments_lexer": "ipython3",
   "version": "3.10.7"
  }
 },
 "nbformat": 4,
 "nbformat_minor": 5
}
